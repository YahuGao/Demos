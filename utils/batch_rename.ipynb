{
 "cells": [
  {
   "cell_type": "code",
   "execution_count": null,
   "metadata": {},
   "outputs": [],
   "source": [
    "import os\n",
    "from bs4 import BeautifulSoup as bs"
   ]
  },
  {
   "cell_type": "code",
   "execution_count": null,
   "metadata": {},
   "outputs": [],
   "source": [
    "with open('tmp.html', 'r') as f:\n",
    "    html = f.read()\n",
    "\n",
    "html_bs = bs(html, 'lxml')"
   ]
  },
  {
   "cell_type": "code",
   "execution_count": null,
   "metadata": {},
   "outputs": [],
   "source": [
    "lessons_bs = html_bs.find_all('a', class_='course-lesson')\n",
    "lessons = []\n",
    "for lesson in lessons_bs:\n",
    "    title = lesson['title'].strip()\n",
    "    if title.startswith('视频') or title.startswith('第'):\n",
    "        lessons.append(lesson['title'])"
   ]
  },
  {
   "cell_type": "code",
   "execution_count": null,
   "metadata": {},
   "outputs": [],
   "source": [
    "print(len(lessons))"
   ]
  },
  {
   "cell_type": "code",
   "execution_count": null,
   "metadata": {},
   "outputs": [],
   "source": [
    "for path, dirs, files in os.walk('../data/xiaoxiang/previewClass/data_process/'):\n",
    "    for file in files:\n",
    "        file_path = str(path) + file\n",
    "        target = file_path.split('/')[-1].split('时长')[0]\n",
    "        index = lessons.index(target)\n",
    "        os.rename(file_path, str(path) + str(index) + '.' + file)\n",
    "        "
   ]
  }
 ],
 "metadata": {
  "kernelspec": {
   "display_name": "Python 3",
   "language": "python",
   "name": "python3"
  },
  "language_info": {
   "codemirror_mode": {
    "name": "ipython",
    "version": 3
   },
   "file_extension": ".py",
   "mimetype": "text/x-python",
   "name": "python",
   "nbconvert_exporter": "python",
   "pygments_lexer": "ipython3",
   "version": "3.7.6"
  }
 },
 "nbformat": 4,
 "nbformat_minor": 4
}
