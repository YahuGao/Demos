{
 "cells": [
  {
   "cell_type": "markdown",
   "metadata": {},
   "source": [
    "#### zipf's law: 一个单词出现的频率与它在频率表里的排名成反比"
   ]
  },
  {
   "cell_type": "code",
   "execution_count": 1,
   "metadata": {},
   "outputs": [],
   "source": [
    "import re\n",
    "import string\n",
    "def data_helper(s):\n",
    "    '''\n",
    "    # 去除字符串中的数字，字母和中文标点\n",
    "    '''\n",
    "    # 去除中文标点\n",
    "    cn_punctuation = '！？。＂＃＄％＆＇（）＊＋，－／：；＜＝＞＠［＼］＾＿｀｛｜｝～｟｠｢｣､、〃》「」『』【】〔〕〖〗〘〙〚〛〜〝〞〟〰〾〿–—‘’‛“”„‟…‧﹏.'\n",
    "    s = re.sub(r'[0-9a-zA-Z'+cn_punctuation+']', '', s)\n",
    "    # 去除英文标点\n",
    "    s = re.sub(r'[' + string.punctuation + ']', '', s)\n",
    "    return s\n",
    "\n",
    "# s = '你好，9527.欢迎,.!\"\"？‘。。。。'\n",
    "# data_helper(s)"
   ]
  },
  {
   "cell_type": "code",
   "execution_count": null,
   "metadata": {},
   "outputs": [],
   "source": [
    "import jieba\n",
    "from tqdm import tqdm\n",
    "def read_corpus(filename='../data/修真四万年.txt'):\n",
    "    '''\n",
    "    contexts: list of list of words(string)\n",
    "    '''\n",
    "\n",
    "    word2count = {}\n",
    "    with open(filename) as f:\n",
    "        try:\n",
    "            with tqdm(f.readlines()) as t:\n",
    "                for segment in t:\n",
    "                    # 去除空行\n",
    "                    if len(segment) == 1:\n",
    "                        continue\n",
    "                    # 切分句子，并删除句号\n",
    "                    sentences = [sentence for sentence in segment.split('。')]\n",
    "                    for sentence in sentences:\n",
    "                        # 句子中的特殊符号处理\n",
    "                        sentence = data_helper(sentence)\n",
    "                        # 去除空白符\n",
    "                        sentence.strip('\\s\\n')\n",
    "                        \n",
    "                        # 统计词语出现次数\n",
    "                        words = jieba.lcut(sentence)\n",
    "                        for word in words:\n",
    "                            count = word2count.get(word, 0)\n",
    "                            word2count[word] = count + 1\n",
    "        except KeyboardInterrupt:\n",
    "            t.close()\n",
    "            raise\n",
    "\n",
    "        t.close()\n",
    "\n",
    "    return word2count\n",
    "\n",
    "word2count = read_corpus()"
   ]
  },
  {
   "cell_type": "code",
   "execution_count": 3,
   "metadata": {},
   "outputs": [],
   "source": [
    "word2count = [(key, value) for key, value in word2count.items()]\n",
    "word2count = sorted(word2count, key= lambda x:x[1], reverse=True)"
   ]
  },
  {
   "cell_type": "code",
   "execution_count": 5,
   "metadata": {},
   "outputs": [
    {
     "data": {
      "image/png": "[encoded data removed]",
      "text/plain": [
       "<Figure size 432x288 with 1 Axes>"
      ]
     },
     "metadata": {
      "needs_background": "light"
     },
     "output_type": "display_data"
    }
   ],
   "source": [
    "import matplotlib.pyplot as plt\n",
    "\n",
    "top = 1000\n",
    "labels, y = zip(*word2count[:top])\n",
    "fig, ax = plt.subplots()\n",
    "x = range(top)\n",
    "ax.scatter(x,y,c='r')\n",
    "\n",
    "# 给个点加个标记\n",
    "if False:\n",
    "    for idx, label in enumerate(labels):\n",
    "        ax.annotate(idx, (x[idx], y[idx]))"
   ]
  }
 ],
 "metadata": {
  "kernelspec": {
   "display_name": "Python 3",
   "language": "python",
   "name": "python3"
  },
  "language_info": {
   "codemirror_mode": {
    "name": "ipython",
    "version": 3
   },
   "file_extension": ".py",
   "mimetype": "text/x-python",
   "name": "python",
   "nbconvert_exporter": "python",
   "pygments_lexer": "ipython3",
   "version": "3.7.6"
  }
 },
 "nbformat": 4,
 "nbformat_minor": 4
}
