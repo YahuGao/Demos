{
 "cells": [
  {
   "cell_type": "code",
   "execution_count": 18,
   "metadata": {},
   "outputs": [],
   "source": [
    "import requests\n",
    "from bs4 import BeautifulSoup\n",
    "import pandas as pd"
   ]
  },
  {
   "cell_type": "code",
   "execution_count": 2,
   "metadata": {},
   "outputs": [],
   "source": [
    "def get_content(content_url):\n",
    "    req = requests.get(url=content_url)\n",
    "    req.encoding = 'utf-8'\n",
    "    html = req.text\n",
    "    bs = BeautifulSoup(html, 'lxml')\n",
    "    \n",
    "    return bs"
   ]
  },
  {
   "cell_type": "code",
   "execution_count": 31,
   "metadata": {},
   "outputs": [],
   "source": [
    "def get_reviews(bs):\n",
    "    entries = bs.find_all('entry')\n",
    "    reviews = []\n",
    "    for entry in entries:\n",
    "        entry_updated = entry.updated.text\n",
    "        entry_title = entry.title.text\n",
    "        content = entry.find('content', type='text')\n",
    "        entry_content_001 = content.text\n",
    "        entry_im_ratting = entry.find('im:rating').text\n",
    "        entry_user_name = entry.find('name').text\n",
    "        item = [entry_updated, entry_title,\n",
    "                entry__content__001, entry_im_ratting,\n",
    "                entry__user__name]\n",
    "        reviews.append(item)\n",
    "    return reviews"
   ]
  },
  {
   "cell_type": "code",
   "execution_count": 32,
   "metadata": {},
   "outputs": [],
   "source": [
    "pref = 'https://itunes.apple.com/us/rss/customerreviews/page='\n",
    "suff = '/id=350189835/sortBy=mostrecent/xml'\n",
    "# target = 'https://itunes.apple.com/us/rss/customerreviews/page=1/id=350189835/sortBy=mostrecent/xml'\n",
    "reviews = []\n",
    "for page in range(1,11):\n",
    "    target = pref + str(page) + suff\n",
    "    bs = get_content(target)\n",
    "    reviews.extend(get_reviews(bs))"
   ]
  },
  {
   "cell_type": "code",
   "execution_count": 37,
   "metadata": {},
   "outputs": [],
   "source": [
    "idxes = ['entry__updated',\n",
    "         'entry__title',\n",
    "         'entry__content__001__#Text',\n",
    "         'entry__im:rating',\n",
    "         'entry__user__name'\n",
    "        ]\n",
    "df = pd.DataFrame(reviews)\n",
    "columns = {idx: name for idx, name in enumerate(idxes)}\n",
    "df.rename(columns=columns, inplace=True)\n",
    "df.loc[0:249,:].to_csv('weedmaps.csv')"
   ]
  }
 ],
 "metadata": {
  "kernelspec": {
   "display_name": "Python 3",
   "language": "python",
   "name": "python3"
  },
  "language_info": {
   "codemirror_mode": {
    "name": "ipython",
    "version": 3
   },
   "file_extension": ".py",
   "mimetype": "text/x-python",
   "name": "python",
   "nbconvert_exporter": "python",
   "pygments_lexer": "ipython3",
   "version": "3.7.6"
  }
 },
 "nbformat": 4,
 "nbformat_minor": 4
}
