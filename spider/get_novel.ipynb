{
 "cells": [
  {
   "cell_type": "code",
   "execution_count": null,
   "metadata": {
    "scrolled": true
   },
   "outputs": [],
   "source": [
    "# 导入必要的包\n",
    "import requests  # 发起请求\n",
    "from bs4 import BeautifulSoup  # 解析网页数据\n",
    "import re     # 使用正则表达式清洗文本\n",
    "from tqdm import tqdm\n",
    "import threading"
   ]
  },
  {
   "cell_type": "code",
   "execution_count": null,
   "metadata": {
    "scrolled": false
   },
   "outputs": [],
   "source": [
    "# 选取爬取目标\n",
    "target = 'https://www.jx.la/book/4292/2713513.html'\n",
    "# 发起请求\n",
    "def get_context(chapters):\n",
    "    contexts = ''\n",
    "    # for url, subject in tqdm(chapters):\n",
    "    for url, subject in tqdm(chapters):\n",
    "        req = requests.get(url=url)\n",
    "        req.encoding = 'utf-8'\n",
    "        html = req.text                     # 获取请求后返回的文本\n",
    "        bs = BeautifulSoup(html, 'lxml')    # 将文本传给bs工具\n",
    "        # 根据html元素类型和id从文本中抽取需要的内容\n",
    "        context = bs.find('div', id='content')\n",
    "        # print(texts)  # 得到<div id='content'>中的所有内容\n",
    "        context = context.text.replace('<br/>', '')\n",
    "        context = re.sub('\\s+', '', context)\n",
    "        contexts += '\\n' + subject + '\\n' + context\n",
    "        \n",
    "    return contexts"
   ]
  },
  {
   "cell_type": "code",
   "execution_count": null,
   "metadata": {
    "scrolled": true
   },
   "outputs": [],
   "source": [
    "def get_content(content_url):\n",
    "    req = requests.get(url=content_url)\n",
    "    req.encoding = 'utf-8'\n",
    "    html = req.text\n",
    "    bs = BeautifulSoup(html, 'lxml')\n",
    "    information = bs.find('div', id='info')\n",
    "    title = information.text.split()[0]      # get title of novel\n",
    "    chapters = bs.find('div', id='list')\n",
    "    chapters = bs.findAll('dd')\n",
    "    chapter_urls = [(target[:17]+chapte.a['href'], chapte.a.text)\n",
    "        for chapte in chapters[12:]]\n",
    "    \n",
    "    return chapter_urls\n",
    "\n",
    "target = 'https://www.jx.la/book/4292/'\n",
    "chapters = get_content(target)"
   ]
  },
  {
   "cell_type": "code",
   "execution_count": null,
   "metadata": {
    "scrolled": true
   },
   "outputs": [],
   "source": [
    "'''\n",
    "————————————————\n",
    "版权声明：本文为CSDN博主「行者小朱」的原创文章，遵循CC 4.0 BY-SA版权协议，转载请附上原文出处链接及本声明。\n",
    "原文链接：https://blog.csdn.net/u012050154/article/details/80032072\n",
    "'''\n",
    "class MyThread(threading.Thread):\n",
    "    def __init__(self, func, args=()):\n",
    "        super(MyThread, self).__init__()\n",
    "        self.func = func\n",
    "        self.args = args\n",
    " \n",
    "    def run(self):\n",
    "        self.result = self.func(self.args)\n",
    " \n",
    "    def get_result(self):\n",
    "        threading.Thread.join(self) # 等待线程执行完毕\n",
    "        try:\n",
    "            return self.result\n",
    "        except Exception:\n",
    "            return None"
   ]
  },
  {
   "cell_type": "code",
   "execution_count": null,
   "metadata": {
    "scrolled": false
   },
   "outputs": [],
   "source": [
    "%%time\n",
    "# 选取爬取目标\n",
    "target = 'https://www.jx.la/book/4292/'\n",
    "# 获取章节目录\n",
    "chapters = get_content(target)\n",
    "\n",
    "results = []\n",
    "\n",
    "# cpu线程数\n",
    "thread_nums = 12\n",
    "# 把每个线程任务数量\n",
    "chapters_length = len(chapters)\n",
    "stepLength = chapters_length // thread_nums\n",
    "tasks = []\n",
    "for thread_num in range(thread_nums):\n",
    "    start = thread_num * stepLength\n",
    "    end = (thread_num + 1) * stepLength\n",
    "    if end > chapters_length:\n",
    "        end = chapters_length\n",
    "    task = MyThread(get_context, (chapters[start: end]))\n",
    "    task.start()\n",
    "    tasks.append(task)\n",
    "\n",
    "for task in tasks:\n",
    "    results.append((thread_num, task.get_result()))\n",
    "    \n",
    "sorted(results, key=lambda x:x[0])\n",
    "\n",
    "with open('修真四万年.txt', 'w') as f:\n",
    "    for num, contexts in results:\n",
    "        print(num)\n",
    "        f.write(contexts)"
   ]
  }
 ],
 "metadata": {
  "kernelspec": {
   "display_name": "Python 3",
   "language": "python",
   "name": "python3"
  },
  "language_info": {
   "codemirror_mode": {
    "name": "ipython",
    "version": 3
   },
   "file_extension": ".py",
   "mimetype": "text/x-python",
   "name": "python",
   "nbconvert_exporter": "python",
   "pygments_lexer": "ipython3",
   "version": "3.7.6"
  }
 },
 "nbformat": 4,
 "nbformat_minor": 4
}
