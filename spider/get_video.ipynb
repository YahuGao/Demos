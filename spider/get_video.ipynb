{
 "cells": [
  {
   "cell_type": "code",
   "execution_count": null,
   "metadata": {},
   "outputs": [],
   "source": [
    "import requests\n",
    "from bs4 import BeautifulSoup\n",
    "import ffmpy3 # 多媒体视频处理工具 ffmpeg\n",
    "from multiprocessing.dummy import Pool as ThreadPool"
   ]
  },
  {
   "cell_type": "code",
   "execution_count": null,
   "metadata": {},
   "outputs": [],
   "source": [
    "search_url = 'https://www.okzyw.com/index.php'\n",
    "server = 'https://www.okzyw.com/'\n",
    "search_keyword = '越狱第一季'\n",
    "search_parameters = {\n",
    "    'm': 'vod-search'\n",
    "}\n",
    "search_headers = {\n",
    "    'User-Agent': 'Mozilla/5.0 (X11; Ubuntu; Linux x86_64; rv:76.0) Gecko/20100101 Firefox/76.0',\n",
    "    'Referer': 'https://www.okzyw.com/',\n",
    "    'Origin': 'https://www.okzyw.com',\n",
    "    'Host': 'www.okzyw.com'\n",
    "}\n",
    "search_datas = {\n",
    "    'wd': search_keyword,\n",
    "    'submit': 'search'\n",
    "}\n",
    "\n",
    "# send post request\n",
    "req = requests.post(url=search_url,\n",
    "                   params=search_parameters,\n",
    "                   headers=search_headers,\n",
    "                   data=search_datas)\n",
    "req.encoding='utf-8'\n",
    "search_html = BeautifulSoup(req.text, 'lxml')\n",
    "search_spans = search_html.find_all('span', class_='xing_vb4')\n",
    "\n",
    "search_results = []\n",
    "for span in search_spans:\n",
    "    url = server + span.a.get('href')\n",
    "    name = span.a.string\n",
    "    search_results.append((name, url))\n"
   ]
  },
  {
   "cell_type": "code",
   "execution_count": null,
   "metadata": {},
   "outputs": [],
   "source": [
    "for name, url in search_results:\n",
    "    req = requests.get(url)\n",
    "    req.encoding = 'utf-8'\n",
    "    details_html = BeautifulSoup(req.text, 'lxml')\n",
    "    # 所有的集数和url都包含在<li>中\n",
    "    items = details_html.find_all('li', class_='')\n",
    "    \n",
    "    chapters = []\n",
    "    for item in items:\n",
    "        # 选择m3u8格式的链接源\n",
    "        if 'm3u8' in item.text:\n",
    "            chapter_nam, chapter_url = item.text.split('$')\n",
    "            chapters.append((chapter_nam, chapter_url))\n",
    "            \n"
   ]
  },
  {
   "cell_type": "code",
   "execution_count": null,
   "metadata": {},
   "outputs": [],
   "source": [
    "def get_video(chapters):\n",
    "    for chapter in chapters:\n",
    "        print(chapter[0], chapter[1])\n",
    "        try:\n",
    "            ffmpy3.FFmpeg(inputs={chapter[1]: None},\n",
    "                          outputs={chapter[0]: None}).run()\n",
    "        except Exception as e:\n",
    "            print(\"Failed: \" + chapter_num + \": \" + \"chapter_url\")\n",
    "            print(e)\n",
    "    return 0\n",
    "\n",
    "# get_video(chapters)"
   ]
  },
  {
   "cell_type": "code",
   "execution_count": null,
   "metadata": {},
   "outputs": [],
   "source": [
    "# 开12个线程池\n",
    "pool = ThreadPool(12)\n",
    "results = pool.map(get_video, chapters)\n",
    "pool.close()\n",
    "pool.join()"
   ]
  }
 ],
 "metadata": {
  "kernelspec": {
   "display_name": "Python 3",
   "language": "python",
   "name": "python3"
  },
  "language_info": {
   "codemirror_mode": {
    "name": "ipython",
    "version": 3
   },
   "file_extension": ".py",
   "mimetype": "text/x-python",
   "name": "python",
   "nbconvert_exporter": "python",
   "pygments_lexer": "ipython3",
   "version": "3.7.6"
  }
 },
 "nbformat": 4,
 "nbformat_minor": 4
}
