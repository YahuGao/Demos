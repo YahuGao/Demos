{
 "cells": [
  {
   "cell_type": "code",
   "execution_count": 4,
   "metadata": {
    "collapsed": false
   },
   "outputs": [],
   "source": [
    "import numpy as np\n",
    "from keras.datasets import boston_housing\n",
    "from keras import models, layers"
   ]
  },
  {
   "cell_type": "code",
   "execution_count": null,
   "metadata": {
    "collapsed": false
   },
   "outputs": [],
   "source": [
    "(train_data, train_targets), (test_data, test_targets) = boston_housing.load_data()"
   ]
  },
  {
   "cell_type": "code",
   "execution_count": 8,
   "metadata": {
    "collapsed": false
   },
   "outputs": [],
   "source": [
    "mean = train_data.mean(axis=0)\n",
    "train_data -= mean\n",
    "std = train_data.std(axis=0)\n",
    "train_data_std = train_data / std\n",
    "\n",
    "test_data -= mean\n",
    "test_data_std = test_data / std"
   ]
  },
  {
   "cell_type": "code",
   "execution_count": 5,
   "metadata": {
    "collapsed": false
   },
   "outputs": [],
   "source": [
    "def build_model():\n",
    "    network = models.Sequential()\n",
    "    network.add(layers.Dense(64, activation='relu', input_shape=(train_data.shape[1],)))\n",
    "    network.add(layers.Dense(64, activation='relu'))\n",
    "    network.add(layers.Dense(1))\n",
    "    network.compile(optimizer='rmsprop', loss='mse', metrics=['mae'])\n",
    "    return network"
   ]
  },
  {
   "cell_type": "code",
   "execution_count": 9,
   "metadata": {
    "collapsed": false
   },
   "outputs": [
    {
     "name": "stdout",
     "output_type": "stream",
     "text": [
      "processing fold # 0\n"
     ]
    },
    {
     "name": "stdout",
     "output_type": "stream",
     "text": [
      "processing fold # 1\n"
     ]
    },
    {
     "name": "stdout",
     "output_type": "stream",
     "text": [
      "processing fold # 2\n"
     ]
    },
    {
     "name": "stdout",
     "output_type": "stream",
     "text": [
      "processing fold # 3\n"
     ]
    }
   ],
   "source": [
    "k = 4\n",
    "num_val_samples = len(train_data) // k\n",
    "num_epochs = 100\n",
    "all_scores = []\n",
    "\n",
    "for i in range(k):\n",
    "    print('processing fold #', i)\n",
    "    val_data_std = train_data_std[i*num_val_samples : (i+1)*num_val_samples]\n",
    "    val_targets = train_targets[i*num_val_samples : (i+1)*num_val_samples]\n",
    "\n",
    "    partial_train_data_std = np.concatenate(\n",
    "        [train_data_std[:i*num_val_samples],\n",
    "         train_data_std[(i+1)*num_val_samples:]],\n",
    "        axis=0)\n",
    "    partial_train_targets = np.concatenate(\n",
    "        [train_targets[:i*num_val_samples],\n",
    "         train_targets[(i+1)*num_val_samples:]],\n",
    "        axis=0)\n",
    "    network = build_model()\n",
    "    network.fit(partial_train_data_std, partial_train_targets,\n",
    "                epochs=num_epochs,\n",
    "                batch_size=1, verbose=0)        # verbose = 0, quiet mode\n",
    "    val_mse, val_mae = network.evaluate(val_data_std, val_targets, verbose=0)\n",
    "    all_scores.append(val_mae)"
   ]
  },
  {
   "cell_type": "code",
   "execution_count": 12,
   "metadata": {
    "collapsed": false
   },
   "outputs": [
    {
     "name": "stdout",
     "output_type": "stream",
     "text": [
      "2.480109453201294\n"
     ]
    }
   ],
   "source": [
    "print(np.array(all_scores).mean())"
   ]
  },
  {
   "cell_type": "markdown",
   "metadata": {
    "collapsed": false
   },
   "source": [
    "平均绝对误差的平均值更能代表模型的评估结果, 平均绝对误差的平均值为2.48"
   ]
  },
  {
   "cell_type": "code",
   "execution_count": 21,
   "metadata": {
    "collapsed": false
   },
   "outputs": [
    {
     "name": "stdout",
     "output_type": "stream",
     "text": [
      "processing fold # 0\n"
     ]
    },
    {
     "name": "stdout",
     "output_type": "stream",
     "text": [
      "processing fold # 1\n"
     ]
    },
    {
     "name": "stdout",
     "output_type": "stream",
     "text": [
      "processing fold # 2\n"
     ]
    },
    {
     "name": "stdout",
     "output_type": "stream",
     "text": [
      "processing fold # 3\n"
     ]
    }
   ],
   "source": [
    "# 使用history记录模型在每一轮的表现\n",
    "num_epochs = 500\n",
    "all_mae_histories = []\n",
    "for i in range(k):\n",
    "    print('processing fold #', i)\n",
    "    val_data_std = train_data_std[i*num_val_samples : (i+1)*num_val_samples]\n",
    "    val_targets = train_targets[i*num_val_samples : (i+1)*num_val_samples]\n",
    "\n",
    "    partial_train_data_std = np.concatenate(\n",
    "        [train_data_std[:i*num_val_samples],\n",
    "         train_data_std[(i+1)*num_val_samples:]],\n",
    "        axis=0)\n",
    "    partial_train_targets = np.concatenate(\n",
    "        [train_targets[:i*num_val_samples],\n",
    "         train_targets[(i+1)*num_val_samples:]],\n",
    "        axis=0)\n",
    "    network = build_model()\n",
    "    history = network.fit(partial_train_data_std, partial_train_targets,\n",
    "                epochs=num_epochs, validation_data=(val_data_std, val_targets),\n",
    "                batch_size=1, verbose=0)        # verbose = 0, quiet mode\n",
    "    mae_history = history.history['val_mae']\n",
    "    all_mae_histories.append(mae_history)"
   ]
  },
  {
   "cell_type": "code",
   "execution_count": 23,
   "metadata": {
    "collapsed": false
   },
   "outputs": [],
   "source": [
    "# 求每个轮次中的K折交叉验证分数平均值\n",
    "average_mae_history = [\n",
    "    np.mean([x[i] for x in all_mae_histories]) for i in range(num_epochs)]"
   ]
  },
  {
   "cell_type": "code",
   "execution_count": 24,
   "metadata": {
    "collapsed": false
   },
   "outputs": [
    {
     "data": {
      "image/png": "[encoded data removed]",
      "text/plain": [
       "<Figure size 432x288 with 1 Axes>"
      ]
     },
     "metadata": {
      "needs_background": "light"
     },
     "output_type": "display_data"
    }
   ],
   "source": [
    "import matplotlib.pyplot as plt\n",
    "\n",
    "plt.plot(range(1, len(average_mae_history)+1), average_mae_history)\n",
    "plt.xlabel('Epochs')\n",
    "plt.ylabel('Validation MAE')\n",
    "plt.show()"
   ]
  },
  {
   "cell_type": "markdown",
   "metadata": {
    "collapsed": false
   },
   "source": [
    "因为纵轴的数据范围大, 数据方差较大, 可删除前10个数据点, 因为他们的取值与其它数据相差较大\n",
    "同时将每个数据点替换为前面数据点的指数移动平均值,以得到它的光滑曲线"
   ]
  },
  {
   "cell_type": "code",
   "execution_count": 25,
   "metadata": {
    "collapsed": false
   },
   "outputs": [
    {
     "data": {
      "image/png": "[encoded data removed]",
      "text/plain": [
       "<Figure size 432x288 with 1 Axes>"
      ]
     },
     "metadata": {
      "needs_background": "light"
     },
     "output_type": "display_data"
    }
   ],
   "source": [
    "def smooth_curve(points, factor=0.9):\n",
    "    smoothed_points = []\n",
    "    for point in points:\n",
    "        if smoothed_points:\n",
    "            previous = smoothed_points[-1]\n",
    "            smoothed_points.append(previous*factor + point*(1-point))\n",
    "        else:\n",
    "            smoothed_points.append(point)\n",
    "\n",
    "    return smoothed_points\n",
    "\n",
    "smooth_mae_history = smooth_curve(average_mae_history[10:])\n",
    "plt.plot(range(1, len(smooth_mae_history)+1), smooth_mae_history)\n",
    "plt.xlabel('Epochs')\n",
    "plt.ylabel('Validation MAE')\n",
    "plt.show()"
   ]
  },
  {
   "cell_type": "markdown",
   "metadata": {
    "collapsed": false
   },
   "source": [
    "从途中可以看出, 平均绝对误差在290轮之后不再降低,反而逐渐增大, 开始过拟合.\n",
    "重新编译一个模型, 并在所有训练数据上训练"
   ]
  },
  {
   "cell_type": "code",
   "execution_count": 27,
   "metadata": {
    "collapsed": false
   },
   "outputs": [
    {
     "name": "stdout",
     "output_type": "stream",
     "text": [
      "\r",
      "1/4 [======>.......................] - ETA: 0s - loss: 6.1115 - mae: 2.1107"
     ]
    },
    {
     "name": "stdout",
     "output_type": "stream",
     "text": [
      "\b\b\b\b\b\b\b\b\b\b\b\b\b\b\b\b\b\b\b\b\b\b\b\b\b\b\b\b\b\b\b\b\b\b\b\b\b\b\b\b\b\b\b\b\b\b\b\b\b\b\b\b\b\b\b\b\b\b\b\b\b\b\b\b\b\b\b\b\b\b\b\b\b\b\b\r",
      "4/4 [==============================] - 0s 545us/step - loss: 12.3303 - mae: 2.4151\n"
     ]
    },
    {
     "name": "stdout",
     "output_type": "stream",
     "text": [
      "2.4151055812835693\n"
     ]
    }
   ],
   "source": [
    "num_epochs = 290\n",
    "network = build_model()\n",
    "network.fit(train_data_std, train_targets,\n",
    "            epochs=num_epochs,\n",
    "            batch_size=32, verbose=0)\n",
    "\n",
    "test_mse_score, test_mae_score = network.evaluate(test_data_std, test_targets)\n",
    "print(test_mae_score)"
   ]
  },
  {
   "cell_type": "markdown",
   "metadata": {
    "collapsed": false
   },
   "source": [
    "最终得到的平均绝对误差为2.4, 预测的房价和实际价格相差约2400美元"
   ]
  }
 ],
 "metadata": {
  "kernelspec": {
   "argv": [
    "/home/ygao/anaconda3/bin/python",
    "-m",
    "ipykernel_launcher",
    "-f",
    "{connection_file}"
   ],
   "display_name": "Python 3",
   "env": null,
   "interrupt_mode": "signal",
   "language": "python",
   "metadata": null,
   "name": "python3"
  },
  "name": "boston_housing.ipynb"
 },
 "nbformat": 4,
 "nbformat_minor": 4
}
