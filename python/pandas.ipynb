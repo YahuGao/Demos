{
 "cells": [
  {
   "cell_type": "code",
   "execution_count": 4,
   "metadata": {
    "tags": []
   },
   "outputs": [
    {
     "output_type": "stream",
     "name": "stdout",
     "text": "0.25.1\n1.17.2\n"
    }
   ],
   "source": [
    "import pandas as pd\n",
    "import numpy as np\n",
    "\n",
    "print(pd.__version__)\n",
    "print(np.__version__)"
   ]
  },
  {
   "cell_type": "code",
   "execution_count": 40,
   "metadata": {
    "tags": []
   },
   "outputs": [
    {
     "output_type": "stream",
     "name": "stdout",
     "text": "0    0\n1    1\n2    2\n3    3\n4    4\ndtype: int64\na    1\nb    2\nc    3\nd    4\ndtype: int64\n                                   A         B         C         D\n2020-07-13 19:07:01.871673 -0.332765 -0.127464  0.133402 -1.392638\n2020-07-14 19:07:01.871673  1.961778  2.587283  0.640901 -1.409881\n2020-07-15 19:07:01.871673  2.164735 -1.037259 -0.731741 -2.066434\n2020-07-16 19:07:01.871673 -0.238741  1.230009  1.357860  0.125587\n2020-07-17 19:07:01.871673  1.381949  0.465047  0.216431  0.506090\n2020-07-18 19:07:01.871673 -0.114076  1.470820  0.898969  0.988259\n   Unnamed: 0                                            content\n0           0  　　,中新网,1月8日电 综合报道，入冬以来，我国多个地区连续经历了重污染天气过程，多个城市...\n1           1                        　　,【极端不利气象条件导致近期京津冀霾天气多发重发】\n2           2  　　中国气象局7日举行近期霾天气气象成因媒体通气会，专家介绍，全球气候变暖背景下极端不利的气...\n3           3  　　2016年11月以来，我国京津冀地区共发生7次持续性中到重度霾天气过程。冷空气不活跃、平...\n4           4  　　预计1月8日至14日，气象条件整体有利于污染物的扩散，京津冀地区无持续性雾和霾天气，但1...\n5           5                     　　,【环保部部长回应重污染天气热点：环境质量改善负重前行】\n6           6         　　环境保护部6日晚间举行新闻发布会，环保部部长陈吉宁回应了重污染天气相关热点话题。\n7           7  　　近期，环保部和一些地方环保部门发布了2016年的空气质量数据，结果显示多数地区空气质量有...\n8           8  　　陈吉宁表示，我国的环境质量改善是在“负重前行”。所谓“重”，就是要在高污染物排放总量的前...\n9           9  　　他指出，大气治理必然是一个较长的过程，不可能一蹴而就。“我们不能因为一两次重污染天气就失...\n  animal  age  visits priority\na    cat    6       1     high\nb    dog    8       2   medium\nc  snake    3       3      low\nd    cat    7       8     high\ne    dog    9       6   medium\nf  snake    2       4      low\n"
    }
   ],
   "source": [
    "# 创建Series\n",
    "# 从列表创建\n",
    "arr = [0, 1, 2, 3, 4]\n",
    "series = pd.Series(arr)\n",
    "print(series)\n",
    "# 从字典创建\n",
    "d = {'a':1, 'b':2, 'c':3, 'd':4}\n",
    "series = pd.Series(d)\n",
    "print(series)\n",
    "# 创建DataFrame\n",
    "# 从numpy数组创建\n",
    "dates = pd.date_range('today', periods=6)  # 定义时间序列作为index\n",
    "num_arr = np.random.randn(6, 4)  # 传入numpy随机数组\n",
    "columns = ['A', 'B', 'C', 'D']   # 将列表作为列名\n",
    "df = pd.DataFrame(num_arr, index=dates, columns=columns)\n",
    "print(df)\n",
    "# 从CSV文件创建\n",
    "df = pd.read_csv('../NLP/data/home_news.csv', encoding='utf-8', sep=',')\n",
    "print(df[:10])\n",
    "# 从字典对象创建\n",
    "data = {'animal':['cat', 'dog', 'snake', 'cat', 'dog', 'snake'],\n",
    "        'age':[6, 8, 3, 7, 9, 2],\n",
    "        'visits':[1, 2, 3, 8, 6, 4],\n",
    "        'priority': ['high', 'medium', 'low', 'high', 'medium', 'low']}\n",
    "labels = ['a', 'b', 'c', 'd', 'e', 'f']\n",
    "df = pd.DataFrame(data, index=labels)\n",
    "print(df)\n",
    "\n"
   ]
  },
  {
   "cell_type": "code",
   "execution_count": 12,
   "metadata": {
    "tags": []
   },
   "outputs": [
    {
     "output_type": "stream",
     "name": "stdout",
     "text": "<class 'pandas.core.frame.DataFrame'>\nIndex: 3 entries, a to c\nData columns (total 4 columns):\nanimal      3 non-null object\nage         3 non-null int64\nvisits      3 non-null int64\npriority    3 non-null object\ndtypes: int64(2), object(2)\nmemory usage: 200.0+ bytes\nNone\n  animal  age  visits priority\na    cat    6       1     high\nb    dog    8       2   medium\n  animal  age\na    cat    6\nb    dog    8\nc  snake    3\n  animal  age\na    cat    6\nb    dog    8\nc  snake    3\n  animal  age\nb    dog    8\nc  snake    3\n  animal  age  visits priority\na    cat    6       1     high\nb    dog    8       2   medium\n"
    }
   ],
   "source": [
    "# 显示df的基本信息\n",
    "print(df.info())\n",
    "print(df[:2])\n",
    "print(df.loc[:, ['animal', 'age']])\n",
    "print(df[['animal', 'age']])\n",
    "print(df.loc[df.index[[1,2]], ['animal', 'age']])\n",
    "print(df[df.age > 3])\n"
   ]
  },
  {
   "cell_type": "code",
   "execution_count": 30,
   "metadata": {
    "tags": []
   },
   "outputs": [
    {
     "output_type": "stream",
     "name": "stdout",
     "text": "Empty DataFrame\nColumns: [animal, age, visits, priority]\nIndex: []\n  animal  age  visits priority\na    cat  6.0       1     high\nc  snake  5.5       3      low\n  animal  age  visits priority\na    cat  6.0       1     high\nb    dog  8.0       2   medium\nc  snake  5.5       3      low\nd    cat  7.0       8     high\ne    dog  9.0       6   medium\nf  snake  2.0       4      low\n24\nanimal\ncat      6.50\ndog      8.50\nsnake    3.75\nName: age, dtype: float64\ndog      2\ncat      2\nsnake    2\nName: animal, dtype: int64\n"
    }
   ],
   "source": [
    "# 取出age值缺失的行\n",
    "print(df[df['age'].isnull()])\n",
    "# 取出age在5,7之间的行\n",
    "print(df[(df['age']>5) & (df['age']<7)])\n",
    "# c行的age改为5.5\n",
    "df.loc['c', 'age'] = 5.5\n",
    "print(df)\n",
    "# 计算isits的总和\n",
    "print(df.visits.sum())\n",
    "# 计算每个种类animal的age的平均数\n",
    "print(df.groupby('animal')['age'].mean())\n",
    "# 计算每个种类animal的数量\n",
    "## print(df.groupby('animal').count())\n",
    "print(df['animal'].value_counts())"
   ]
  },
  {
   "cell_type": "code",
   "execution_count": 31,
   "metadata": {
    "tags": []
   },
   "outputs": [
    {
     "output_type": "stream",
     "name": "stdout",
     "text": "animal  age  visits priority\ne    dog  9.0       6   medium\nb    dog  8.0       2   medium\nd    cat  7.0       8     high\na    cat  6.0       1     high\nc  snake  5.5       3      low\nf  snake  2.0       4      low\n"
    }
   ],
   "source": [
    "# 先按'age'降序排列, 再按'visits'升序排列(age值相同时, 'visits'按升序排列)\n",
    "print(df.sort_values(by=['age', 'visits'], ascending=[False, True]))"
   ]
  },
  {
   "cell_type": "code",
   "execution_count": 41,
   "metadata": {
    "tags": []
   },
   "outputs": [
    {
     "output_type": "execute_result",
     "data": {
      "text/plain": "a       top\nb    middle\nc    bottom\nd       top\ne    middle\nf    bottom\nName: priority, dtype: object"
     },
     "metadata": {},
     "execution_count": 41
    }
   ],
   "source": [
    "# 将priority的值'high','low' 替换为'top', 'bottom'\n",
    "# df['priority'] = \n",
    "df['priority'].map({'high':'top', 'medium':'middle', 'low':'bottom'})\n",
    "# print(df)"
   ]
  },
  {
   "cell_type": "code",
   "execution_count": 42,
   "metadata": {},
   "outputs": [
    {
     "output_type": "execute_result",
     "data": {
      "text/plain": "a       cat\nb       dog\nc    python\nd       cat\ne       dog\nf    python\nName: animal, dtype: object"
     },
     "metadata": {},
     "execution_count": 42
    }
   ],
   "source": [
    "# 将animal的snake替换为python\n",
    "df['animal'].replace('snake', 'python')"
   ]
  },
  {
   "cell_type": "code",
   "execution_count": 47,
   "metadata": {},
   "outputs": [
    {
     "output_type": "execute_result",
     "data": {
      "text/plain": "visits    1    2    3    4    6    8\nanimal                              \ncat     6.0  NaN  NaN  NaN  NaN  7.0\ndog     NaN  8.0  NaN  NaN  9.0  NaN\nsnake   NaN  NaN  3.0  2.0  NaN  NaN",
      "text/html": "<div>\n<style scoped>\n    .dataframe tbody tr th:only-of-type {\n        vertical-align: middle;\n    }\n\n    .dataframe tbody tr th {\n        vertical-align: top;\n    }\n\n    .dataframe thead th {\n        text-align: right;\n    }\n</style>\n<table border=\"1\" class=\"dataframe\">\n  <thead>\n    <tr style=\"text-align: right;\">\n      <th>visits</th>\n      <th>1</th>\n      <th>2</th>\n      <th>3</th>\n      <th>4</th>\n      <th>6</th>\n      <th>8</th>\n    </tr>\n    <tr>\n      <th>animal</th>\n      <th></th>\n      <th></th>\n      <th></th>\n      <th></th>\n      <th></th>\n      <th></th>\n    </tr>\n  </thead>\n  <tbody>\n    <tr>\n      <td>cat</td>\n      <td>6.0</td>\n      <td>NaN</td>\n      <td>NaN</td>\n      <td>NaN</td>\n      <td>NaN</td>\n      <td>7.0</td>\n    </tr>\n    <tr>\n      <td>dog</td>\n      <td>NaN</td>\n      <td>8.0</td>\n      <td>NaN</td>\n      <td>NaN</td>\n      <td>9.0</td>\n      <td>NaN</td>\n    </tr>\n    <tr>\n      <td>snake</td>\n      <td>NaN</td>\n      <td>NaN</td>\n      <td>3.0</td>\n      <td>2.0</td>\n      <td>NaN</td>\n      <td>NaN</td>\n    </tr>\n  </tbody>\n</table>\n</div>"
     },
     "metadata": {},
     "execution_count": 47
    }
   ],
   "source": [
    "# 对每种动物的每种不同数量isits, 计算平均age, 返回一个表格, 索引是animal,列是visits数量,\n",
    "# pivot 枢, 应该是转动, 调整表的索引, 列和值\n",
    "df.pivot_table(index='animal', columns='visits', values='age', aggfunc='mean')"
   ]
  },
  {
   "cell_type": "code",
   "execution_count": 48,
   "metadata": {
    "tags": []
   },
   "outputs": [
    {
     "output_type": "stream",
     "name": "stdout",
     "text": "Help on function pivot_table in module pandas.core.frame:\n\npivot_table(self, values=None, index=None, columns=None, aggfunc='mean', fill_value=None, margins=False, dropna=True, margins_name='All', observed=False)\n    Create a spreadsheet-style pivot table as a DataFrame. The levels in\n    the pivot table will be stored in MultiIndex objects (hierarchical\n    indexes) on the index and columns of the result DataFrame.\n    \n    Parameters\n    ----------\n    values : column to aggregate, optional\n    index : column, Grouper, array, or list of the previous\n        If an array is passed, it must be the same length as the data. The\n        list can contain any of the other types (except list).\n        Keys to group by on the pivot table index.  If an array is passed,\n        it is being used as the same manner as column values.\n    columns : column, Grouper, array, or list of the previous\n        If an array is passed, it must be the same length as the data. The\n        list can contain any of the other types (except list).\n        Keys to group by on the pivot table column.  If an array is passed,\n        it is being used as the same manner as column values.\n    aggfunc : function, list of functions, dict, default numpy.mean\n        If list of functions passed, the resulting pivot table will have\n        hierarchical columns whose top level are the function names\n        (inferred from the function objects themselves)\n        If dict is passed, the key is column to aggregate and value\n        is function or list of functions\n    fill_value : scalar, default None\n        Value to replace missing values with\n    margins : boolean, default False\n        Add all row / columns (e.g. for subtotal / grand totals)\n    dropna : boolean, default True\n        Do not include columns whose entries are all NaN\n    margins_name : string, default 'All'\n        Name of the row / column that will contain the totals\n        when margins is True.\n    observed : boolean, default False\n        This only applies if any of the groupers are Categoricals.\n        If True: only show observed values for categorical groupers.\n        If False: show all values for categorical groupers.\n    \n        .. versionchanged :: 0.25.0\n    \n    Returns\n    -------\n    DataFrame\n    \n    See Also\n    --------\n    DataFrame.pivot : Pivot without aggregation that can handle\n        non-numeric data.\n    \n    Examples\n    --------\n    >>> df = pd.DataFrame({\"A\": [\"foo\", \"foo\", \"foo\", \"foo\", \"foo\",\n    ...                          \"bar\", \"bar\", \"bar\", \"bar\"],\n    ...                    \"B\": [\"one\", \"one\", \"one\", \"two\", \"two\",\n    ...                          \"one\", \"one\", \"two\", \"two\"],\n    ...                    \"C\": [\"small\", \"large\", \"large\", \"small\",\n    ...                          \"small\", \"large\", \"small\", \"small\",\n    ...                          \"large\"],\n    ...                    \"D\": [1, 2, 2, 3, 3, 4, 5, 6, 7],\n    ...                    \"E\": [2, 4, 5, 5, 6, 6, 8, 9, 9]})\n    >>> df\n         A    B      C  D  E\n    0  foo  one  small  1  2\n    1  foo  one  large  2  4\n    2  foo  one  large  2  5\n    3  foo  two  small  3  5\n    4  foo  two  small  3  6\n    5  bar  one  large  4  6\n    6  bar  one  small  5  8\n    7  bar  two  small  6  9\n    8  bar  two  large  7  9\n    \n    This first example aggregates values by taking the sum.\n    \n    >>> table = pd.pivot_table(df, values='D', index=['A', 'B'],\n    ...                     columns=['C'], aggfunc=np.sum)\n    >>> table\n    C        large  small\n    A   B\n    bar one    4.0    5.0\n        two    7.0    6.0\n    foo one    4.0    1.0\n        two    NaN    6.0\n    \n    We can also fill missing values using the `fill_value` parameter.\n    \n    >>> table = pd.pivot_table(df, values='D', index=['A', 'B'],\n    ...                     columns=['C'], aggfunc=np.sum, fill_value=0)\n    >>> table\n    C        large  small\n    A   B\n    bar one      4      5\n        two      7      6\n    foo one      4      1\n        two      0      6\n    \n    The next example aggregates by taking the mean across multiple columns.\n    \n    >>> table = pd.pivot_table(df, values=['D', 'E'], index=['A', 'C'],\n    ...                     aggfunc={'D': np.mean,\n    ...                              'E': np.mean})\n    >>> table\n                    D         E\n    A   C\n    bar large  5.500000  7.500000\n        small  5.500000  8.500000\n    foo large  2.000000  4.500000\n        small  2.333333  4.333333\n    \n    We can also calculate multiple types of aggregations for any given\n    value column.\n    \n    >>> table = pd.pivot_table(df, values=['D', 'E'], index=['A', 'C'],\n    ...                     aggfunc={'D': np.mean,\n    ...                              'E': [min, max, np.mean]})\n    >>> table\n                    D    E\n                mean  max      mean  min\n    A   C\n    bar large  5.500000  9.0  7.500000  6.0\n        small  5.500000  9.0  8.500000  8.0\n    foo large  2.000000  5.0  4.500000  4.0\n        small  2.333333  6.0  4.333333  2.0\n\n"
    }
   ],
   "source": [
    "help(pd.DataFrame.pivot_table)"
   ]
  },
  {
   "cell_type": "code",
   "execution_count": 50,
   "metadata": {
    "tags": []
   },
   "outputs": [
    {
     "output_type": "stream",
     "name": "stdout",
     "text": "A\n0   1\n1   2\n2   2\n3   3\n4   4\n5   5\n6   5\n7   5\n8   6\n9   7\n10  7\n   A\n0  1\n1  2\n3  3\n4  4\n5  5\n8  6\n9  7\n"
    }
   ],
   "source": [
    " # 有一整数列A的dataFrame, 删除数值重复的行\n",
    " df = pd.DataFrame({'A': [1, 2, 2, 3, 4, 5, 5, 5, 6, 7, 7]})\n",
    "print(df)\n",
    "# df1 = df.loc[df['A'].shift() != df['A']]\n",
    "# 方法二\n",
    "df1 = df.drop_duplicates(subset='A')\n",
    "print(df1)"
   ]
  },
  {
   "cell_type": "code",
   "execution_count": 57,
   "metadata": {
    "tags": []
   },
   "outputs": [
    {
     "output_type": "stream",
     "name": "stdout",
     "text": "0         1         2\n0  0.287767  0.563522  0.386835\n1  0.352260  0.906856  0.741578\n2  0.571138  0.602410  0.692201\n3  0.137038  0.070881  0.782944\n4  0.151403  0.209736  0.186898\n0    0.299921\n1    0.470681\n2    0.558091\ndtype: float64\n          0         1         2\n0 -0.012154  0.263601  0.086914\n1 -0.118421  0.436175  0.270897\n2  0.013047  0.044319  0.134110\n3       NaN       NaN       NaN\n4       NaN       NaN       NaN\n0    0.412708\n1    0.666898\n2    0.621916\n3    0.330288\n4    0.182679\ndtype: float64\n"
    }
   ],
   "source": [
    "# 一个全数值的dataframe\n",
    "df = pd.DataFrame(np.random.random(size=(5, 3)))\n",
    "print(df)\n",
    "# 每个数字减去该列的平均值\n",
    "print(df.mean(axis=0))\n",
    "df1 = df.sub(df.mean(axis=0), axis='index')\n",
    "print(df1)\n",
    "# 每个数字减去该行的平均值\n",
    "print(df.mean(axis=1))\n",
    "df2 = df.sub(df.mean(axis=1), axis='index')"
   ]
  },
  {
   "cell_type": "code",
   "execution_count": 61,
   "metadata": {
    "tags": []
   },
   "outputs": [
    {
     "output_type": "stream",
     "name": "stdout",
     "text": "a         b         c         d         e\n0  0.385535  0.147407  0.830590  0.200484  0.641421\n1  0.623656  0.304330  0.353227  0.691505  0.891006\n2  0.764069  0.711121  0.401103  0.493434  0.469281\n3  0.372412  0.687010  0.957947  0.152404  0.678484\n4  0.765512  0.900070  0.894094  0.118787  0.607122\nd\na    2.911185\nb    2.749939\nc    3.436961\nd    1.656614\ne    3.287314\ndtype: float64\n"
    }
   ],
   "source": [
    "# 一个有5列的DataFrame, 求哪一列的和最小\n",
    "df = pd.DataFrame(np.random.random(size=(5,5)), columns=list('abcde'))\n",
    "print(df)\n",
    "print(df.sum().idxmin())\n",
    "print(df.sum())"
   ]
  },
  {
   "cell_type": "code",
   "execution_count": null,
   "metadata": {},
   "outputs": [],
   "source": []
  }
 ],
 "metadata": {
  "language_info": {
   "codemirror_mode": {
    "name": "ipython",
    "version": 3
   },
   "file_extension": ".py",
   "mimetype": "text/x-python",
   "name": "python",
   "nbconvert_exporter": "python",
   "pygments_lexer": "ipython3",
   "version": 3
  },
  "orig_nbformat": 2,
  "kernelspec": {
   "name": "python_defaultSpec_1594676792732",
   "display_name": "Python 3.7.4 64-bit ('base': conda)"
  }
 },
 "nbformat": 4,
 "nbformat_minor": 2
}