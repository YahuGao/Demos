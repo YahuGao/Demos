{
 "cells": [
  {
   "cell_type": "markdown",
   "metadata": {},
   "source": [
    "![](images/special_symbol_and_characters.png)"
   ]
  },
  {
   "cell_type": "markdown",
   "metadata": {},
   "source": [
    "### re模块: 核心函数和方法\n",
    "##### re模块函数:\n",
    "- compile(pattern, flags=0) 使用任意可选的标记来编译正则表达式的模式(简称模式),返回正则表达式对象\n",
    "##### re模块函数和正则表达式对象的方法\n",
    "- match(pattern, string, flags=0) 使用模式来匹配字符串,成功返回匹配对象,否则返回None\n",
    "- search(pattern, string, flags=0) 搜索字符串中第一次出现的模式,成功返回匹配对象,否则返回None\n",
    "- findall(pattern, string\\[,flags\\]) 搜索字符串中所有和模式匹配的字符串(简称模式串),返回匹配对象的列表(没有则列表为空)\n",
    "- finditer(pattern, string\\[,flags\\]) 和findall相同, 返回匹配对象的迭代器\n",
    "- split(pattern, string, maxsplit=0) 以模式作为分隔符,分隔string最多进行maxsplit次, 返回分隔结果\n",
    "- sub(pattern, repl, string, count=0) 用repl替换模式串,默认全部替换,否则进行count次, 返回替换结果,subn返回替换次数\n",
    "- purge()清除隐式编译的正则表达式数目\n",
    "##### 匹配对象的常用方法\n",
    "匹配对象是成功调用match()或者search()返回的对象.\n",
    "- group(num=0) 返回整个匹配对象或者编号为num的特定子组\n",
    "- groups(default=None) 返回一个包含所有匹配子组的元组\n",
    "- groupdict(default=None) 返回一个包含所有匹配的命名子组的字典,子组的名称作为字典的键,匹配不成功返回空\n",
    "##### 常用的模块属性\n",
    "- re.I, re.IGNORECASE 不区分大小写匹配\n",
    "- re.L, re.LOCALE 根据本地语言环境通过\\w, \\W, \\b, \\B, \\s, \\S匹配\n",
    "- re.M, re.MULTILINE ^\\$ 分别匹配目标字符串中的起始和结尾,而不是严格匹配整个字符串本身的起始和结尾  \n",
    "- re.S, re.DOTALL \".\" 匹配全部字符,包括'\\n'\n",
    "- re.X, re.VERBOSE 通过反斜线转义, 否则所有空格加上#都被忽略,除非在一个字符类中或者允许注释并且提高可读性"
   ]
  },
  {
   "cell_type": "code",
   "execution_count": 2,
   "metadata": {},
   "outputs": [
    {
     "name": "stdout",
     "output_type": "stream",
     "text": [
      "cabcacbc\n",
      "('bcacb',)\n",
      "{}\n"
     ]
    }
   ],
   "source": [
    "import re\n",
    "a = 'abcdefgabcabcacbc'\n",
    "p = re.compile('ca([a-z]+)c')\n",
    "res = re.search(p, a)\n",
    "print(res.group())\n",
    "print(res.groups())\n",
    "print(res.groupdict())"
   ]
  },
  {
   "cell_type": "code",
   "execution_count": 3,
   "metadata": {},
   "outputs": [
    {
     "data": {
      "text/plain": [
       "<re.Match object; span=(0, 3), match='bat'>"
      ]
     },
     "execution_count": 3,
     "metadata": {},
     "output_type": "execute_result"
    }
   ],
   "source": [
    "bt = 'bat|bet|bit'\n",
    "m = re.match(bt, 'bat')\n",
    "m"
   ]
  },
  {
   "cell_type": "code",
   "execution_count": 4,
   "metadata": {},
   "outputs": [
    {
     "name": "stdout",
     "output_type": "stream",
     "text": [
      "<re.Match object; span=(3, 6), match='bit'>\n"
     ]
    }
   ],
   "source": [
    "m = re.search(bt, 'He bit me')\n",
    "if m is not None: print(m)"
   ]
  },
  {
   "cell_type": "code",
   "execution_count": 49,
   "metadata": {},
   "outputs": [
    {
     "name": "stdout",
     "output_type": "stream",
     "text": [
      "['1', '3', '9', '8']\n"
     ]
    }
   ],
   "source": [
    "# 子组\n",
    "p = re.compile(r'a(\\d)c')\n",
    "s = 'a1c,a3c,a9ca8c'\n",
    "result = re.findall(p, s)\n",
    "print(result)"
   ]
  },
  {
   "cell_type": "code",
   "execution_count": 111,
   "metadata": {},
   "outputs": [
    {
     "name": "stdout",
     "output_type": "stream",
     "text": [
      "1 nihao, world\n",
      "2 ('nihao, world', 1)\n",
      "3 ['how', 'are', 'you?Pretty', 'good', 'Thanks']\n",
      "4 ['google.com', 'baidu.com', 'baidu.com', 'baidu.com']\n",
      "5 [('google', '.com'), ('baidu', '.com'), ('baidu', '.com'), ('baidu', '.com')]\n"
     ]
    }
   ],
   "source": [
    "print('1', re.sub(r'hello', 'nihao', 'hello, world'))\n",
    "print('2', re.subn(r'hello', 'nihao', 'hello, world'))\n",
    "print('3', re.split(r'[,\\.]', 'how,are,you?Pretty,good.Thanks'))\n",
    "print('4', re.findall(r'(?:\\.)(\\w+.com)', 'www.google.com,www.baidu.com,mail.baidu.com,mp3.baidu.com'))    # (?:匹配但不输出....)\n",
    "print('5', re.findall(r'(?:\\.)(?P<hostname>\\w+)(?P<suffiex>.com)', 'www.google.com,www.baidu.com,mail.baidu.com,mp3.baidu.com'))    # (?P<>子组命名....)"
   ]
  },
  {
   "cell_type": "code",
   "execution_count": 82,
   "metadata": {},
   "outputs": [
    {
     "name": "stdout",
     "output_type": "stream",
     "text": [
      "1 ['abcd', 'abc', 'aaaad']\n",
      "1 ['bcdef', 'bcefg', 'aaaadef']\n"
     ]
    }
   ],
   "source": [
    "print('1', re.findall('\\w+(?=ef)', ',abcdef,abcefg,aaaadef'))\n",
    "print('1', re.findall('(?!abc)\\w+', ',abcdef,abcefg,aaaadef'))"
   ]
  },
  {
   "cell_type": "code",
   "execution_count": 84,
   "metadata": {},
   "outputs": [
    {
     "data": {
      "text/plain": [
       "'yahu'"
      ]
     },
     "execution_count": 84,
     "metadata": {},
     "output_type": "execute_result"
    }
   ],
   "source": [
    "# output of 'who'\n",
    "s = 'yahu     tty2         2020-07-04 06:13 (tty2)'\n",
    "p = re.compile('\\s\\s+')\n",
    "re.split(p, s)[0]"
   ]
  },
  {
   "cell_type": "code",
   "execution_count": 17,
   "metadata": {},
   "outputs": [],
   "source": [
    "# 1. 识别后续的字符串：“bat”、“bit”、“but”、“hat”、“hit”或者“hut”。\n",
    "p = re.compile(r'([b|h][ai]t)|(but)')\n",
    "string = 'bat, bit, but, hat, het, hht, hit'\n",
    "result = re.search(p, string)\n",
    "result_all = re.findall(p, string)\n",
    "print(result.group())\n",
    "print(result_all)"
   ]
  },
  {
   "cell_type": "code",
   "execution_count": 20,
   "metadata": {},
   "outputs": [
    {
     "name": "stdout",
     "output_type": "stream",
     "text": [
      "<re.Match object; span=(0, 6), match='Xu Shu'>\n"
     ]
    }
   ],
   "source": [
    "# 2. 匹配由单个空格分隔的任意单词对，也就是姓和名。\n",
    "patt_fullname = re.compile(r'[A-Z]\\w*\\ [A-Z]\\w*')\n",
    "string = 'Xu Shu'\n",
    "result = re.match(patt_fullname, string)\n",
    "print(result)"
   ]
  },
  {
   "cell_type": "code",
   "execution_count": 26,
   "metadata": {},
   "outputs": [
    {
     "name": "stdout",
     "output_type": "stream",
     "text": [
      "<re.Match object; span=(0, 8), match='Shi, 3ao'>\n"
     ]
    }
   ],
   "source": [
    "# 3. 匹配由单个逗号和单个空白符分隔的任何单词和单个字母，如姓氏的首字母。\n",
    "patt = re.compile('\\w*,\\s\\*')\n",
    "string = 'Shi, 3ao'\n",
    "result = re.match(patt, string)\n",
    "print(result)"
   ]
  },
  {
   "cell_type": "code",
   "execution_count": null,
   "metadata": {},
   "outputs": [],
   "source": [
    "# 4. 匹配所有有效Python标识符的集合.\n",
    "keywords = ['False', 'None', 'True', 'and', 'as', 'assert', 'break', 'class', 'continue', 'def', 'del', 'elif', 'else', 'except', 'finally', 'for', 'from', 'global', 'if', 'import', 'in', 'is', 'lambda', 'nonlocal', 'not', 'or', 'pass', 'raise', 'return', 'try', 'while', 'with', 'yield']\n",
    "p = re.compile('^[a-zA-Z_][\\w|\\d]+')"
   ]
  },
  {
   "cell_type": "code",
   "execution_count": null,
   "metadata": {},
   "outputs": [],
   "source": [
    "''' 5. 根据读者当地的格式，匹配街道地\n",
    "使你的正则表达式足够通用，来匹配任意数量的街道单词，包括类型名称\n",
    "例如，美国街道地址使用如下格式：1180 Bordeaux Drive。\n",
    "使你的正则表达式足够灵活，以支持多单词的街道名称\n",
    "如3120 De la Cruz Boulevard\n",
    "'''\n"
   ]
  },
  {
   "cell_type": "code",
   "execution_count": 86,
   "metadata": {},
   "outputs": [
    {
     "data": {
      "text/plain": [
       "['foothill']"
      ]
     },
     "execution_count": 86,
     "metadata": {},
     "output_type": "execute_result"
    }
   ],
   "source": [
    "'''\n",
    "6. 匹配以“www”起始且以“.com”结尾的简单We b域名；\n",
    "例如，www://www. yahoo.com/。\n",
    "选做题  ：你的正则表达式也可以支持其他高级域名，如.edu、.net等（例如，http://www.foothill.edu）。\n",
    "'''\n",
    "p = re.compile('www.([\\w|\\d]+).[com|edu|net]')\n",
    "s = 'http://www.foothill.edu'\n",
    "re.findall(p, s)"
   ]
  },
  {
   "cell_type": "code",
   "execution_count": 87,
   "metadata": {},
   "outputs": [
    {
     "data": {
      "text/plain": [
       "<re.Match object; span=(0, 3), match='452'>"
      ]
     },
     "execution_count": 87,
     "metadata": {},
     "output_type": "execute_result"
    }
   ],
   "source": [
    "# 7.匹配所有能够表示Python整数的字符串集\n",
    "p = re.compile(r'^[1-9]\\d+')\n",
    "s = '452'\n",
    "re.match(p, s)"
   ]
  },
  {
   "cell_type": "code",
   "execution_count": 90,
   "metadata": {},
   "outputs": [
    {
     "data": {
      "text/plain": [
       "<re.Match object; span=(0, 5), match='0.123'>"
      ]
     },
     "execution_count": 90,
     "metadata": {},
     "output_type": "execute_result"
    }
   ],
   "source": [
    "# 8. 匹配所有能够表示Python浮点数的字符串集。\n",
    "p = re.compile(r'(^[1-9]\\d+)|0\\.\\d*')\n",
    "s = '0.123'\n",
    "re.match(p, s)"
   ]
  },
  {
   "cell_type": "code",
   "execution_count": null,
   "metadata": {},
   "outputs": [],
   "source": [
    "# 9. 匹配所有能够表示Python复数的字符串集"
   ]
  },
  {
   "cell_type": "code",
   "execution_count": 107,
   "metadata": {},
   "outputs": [
    {
     "name": "stdout",
     "output_type": "stream",
     "text": [
      "<re.Match object; span=(0, 11), match='abc@def.com'>\n",
      "[('abc@def.com', 'def'), ('abc@163.com', '163'), ('def_ghi@gmail.com', 'gmail'), ('hijk@126.com', '126')]\n"
     ]
    }
   ],
   "source": [
    "# 10. 匹配所有能够表示有效电子邮件地址的集合\n",
    "p = re.compile('''([a-zA-Z0-9_]+@(163|126|\\w+)\\.com)''')\n",
    "s = 'abc@def.com, abc@163.com,def_ghi@gmail.com,hijk@126.com'\n",
    "print(re.match(p, s))\n",
    "print(re.findall(p,s))"
   ]
  },
  {
   "cell_type": "code",
   "execution_count": 108,
   "metadata": {},
   "outputs": [
    {
     "data": {
      "text/plain": [
       "[('https://www.ligong.edu.com', 'edu', 'com'),\n",
       " ('http://www.caijing.org.com', 'org', 'com')]"
      ]
     },
     "execution_count": 108,
     "metadata": {},
     "output_type": "execute_result"
    }
   ],
   "source": [
    "# 11. 匹配所有能够表示有效的网站地址的合集(URL)\n",
    "p = re.compile(r'(http[s]?://w{3}\\.[a-zA-Z0-9]+\\.(org|edu|gov)?\\.(com|cn|net))')\n",
    "s = 'https://www.ligong.edu.comhttp://www.caijing.org.com'\n",
    "re.findall(p, s)"
   ]
  },
  {
   "cell_type": "code",
   "execution_count": 112,
   "metadata": {},
   "outputs": [
    {
     "data": {
      "text/plain": [
       "['builtin_function_or_method', 'float', 'int']"
      ]
     },
     "execution_count": 112,
     "metadata": {},
     "output_type": "execute_result"
    }
   ],
   "source": [
    "# 12. type()内置函数type()返回一个类型对象, 创建一个能够从字符串中提取实际类型名称的正则表达式。函数将对类似于<type'int' >的字符串返回int\n",
    "p = re.compile(r'(?:<type\\s\\')([a-zA-Z0-9_]{3,})(?:\\'>)')\n",
    "s = \"<type 'builtin_function_or_method'><type 'float'><type 'int'>  \"\n",
    "re.findall(p,s)"
   ]
  },
  {
   "cell_type": "code",
   "execution_count": 116,
   "metadata": {},
   "outputs": [
    {
     "data": {
      "text/plain": [
       "['1',\n",
       " '2',\n",
       " '3',\n",
       " '4',\n",
       " '5',\n",
       " '6',\n",
       " '8',\n",
       " '9',\n",
       " '01',\n",
       " '02',\n",
       " '03',\n",
       " '04',\n",
       " '05',\n",
       " '09',\n",
       " '10',\n",
       " '11',\n",
       " '12']"
      ]
     },
     "execution_count": 116,
     "metadata": {},
     "output_type": "execute_result"
    }
   ],
   "source": [
    "# 13. 创建一个正则表达式来表示标准日历中12个月的数字。\n",
    "p = re.compile(r'1[0-2]{1}|0?[1-9]')\n",
    "s = \"1,2,3,4,5,6,8,9,01,02,03,04,05,09, 10, 11,12\"\n",
    "re.findall(p,s)"
   ]
  },
  {
   "cell_type": "code",
   "execution_count": 145,
   "metadata": {},
   "outputs": [
    {
     "name": "stdout",
     "output_type": "stream",
     "text": [
      "False\n",
      "True\n",
      "False\n"
     ]
    }
   ],
   "source": [
    "# 14. 信用卡号码\n",
    "def is_credit_card_number(number: string):\n",
    "    p = '([0-9]{15,16})|(([0-9]{4}-)(([0-9]{6}-[0-9]{5})|(([0-9]{4}-){2}[0-9]{4})))'\n",
    "    result = re.match(p, number)\n",
    "    if not result:\n",
    "        return False\n",
    "    card_number = result.group().replace('-','')[::-1]\n",
    "    sum1 = sum([int(x) for x in card_number[0::2]])\n",
    "    def double(x):\n",
    "        x = int(x) * 2\n",
    "        if x >= 10:\n",
    "            x = x -9\n",
    "        return x\n",
    "    sum2 = sum([double(x) for x in card_number[1::2]])\n",
    "    if (sum1 + sum2) % 10 == 0:\n",
    "        return True\n",
    "    return False\n",
    "    \n",
    "print(is_credit_card_number('5432123456788882'))\n",
    "print(is_credit_card_number('5432-1234-5678-8881'))\n",
    "print(is_credit_card_number('5432123456788883'))"
   ]
  }
 ],
 "metadata": {
  "kernelspec": {
   "display_name": "Python 3",
   "language": "python",
   "name": "python3"
  },
  "language_info": {
   "codemirror_mode": {
    "name": "ipython",
    "version": 3
   },
   "file_extension": ".py",
   "mimetype": "text/x-python",
   "name": "python",
   "nbconvert_exporter": "python",
   "pygments_lexer": "ipython3",
   "version": "3.7.6"
  }
 },
 "nbformat": 4,
 "nbformat_minor": 4
}
